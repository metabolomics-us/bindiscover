{
 "cells": [
  {
   "cell_type": "markdown",
   "id": "94554902",
   "metadata": {},
   "source": [
    "# BinBrowser"
   ]
  },
  {
   "cell_type": "markdown",
   "id": "fa46a168",
   "metadata": {},
   "source": [
    "## Summary and Format"
   ]
  },
  {
   "cell_type": "markdown",
   "id": "a98f60f9",
   "metadata": {},
   "source": [
    "Generating the data for upset plots is a one step process."
   ]
  },
  {
   "cell_type": "markdown",
   "id": "f42bce2e",
   "metadata": {},
   "source": [
    "Making a post request to "
   ]
  },
  {
   "cell_type": "markdown",
   "id": "df39e069",
   "metadata": {},
   "source": [
    "```\n",
    "http://bindiscover.metabolomics.us:4999/binresource/\n",
    "```"
   ]
  },
  {
   "cell_type": "markdown",
   "id": "1d0caa35",
   "metadata": {},
   "source": [
    "With the format"
   ]
  },
  {
   "cell_type": "markdown",
   "id": "5992cf6d",
   "metadata": {},
   "source": [
    "```\n",
    "{\n",
    "    \"bin_id\":2 #valid options listed in Value Table - Compounds\n",
    "}\n",
    "```"
   ]
  },
  {
   "cell_type": "markdown",
   "id": "ab7ddf8b",
   "metadata": {},
   "source": [
    "will yield the core information for that compound, eg"
   ]
  },
  {
   "cell_type": "markdown",
   "id": "ca9784e0",
   "metadata": {},
   "source": [
    "```\n",
    "\"[\n",
    "    {\\\"retentionIndex\\\": 244189.0, \n",
    "    \\\"kovats\\\": 1090.8202844716252, \n",
    "    \\\"quantMass\\\": 116.0, \n",
    "    \\\"splash\\\": \\\"splash10-014i-0900000000-463c8fd266383dc4db72\\\", \n",
    "    \\\"purity\\\": 0.023755, \n",
    "    \\\"uniqueMass\\\": 116.0, \n",
    "    \\\"spectrum\\\": \\\"85:0.007986828561384518 86:0.034506741257609365 87:0.010288289609788543...\n",
    "]\n",
    "```"
   ]
  }
 ],
 "metadata": {
  "kernelspec": {
   "display_name": "Python 3",
   "language": "python",
   "name": "python3"
  },
  "language_info": {
   "codemirror_mode": {
    "name": "ipython",
    "version": 3
   },
   "file_extension": ".py",
   "mimetype": "text/x-python",
   "name": "python",
   "nbconvert_exporter": "python",
   "pygments_lexer": "ipython3",
   "version": "3.8.8"
  }
 },
 "nbformat": 4,
 "nbformat_minor": 5
}
