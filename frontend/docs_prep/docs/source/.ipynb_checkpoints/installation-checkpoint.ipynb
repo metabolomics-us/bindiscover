{
 "cells": [
  {
   "cell_type": "markdown",
   "id": "f8060461",
   "metadata": {},
   "source": [
    "# Docker"
   ]
  },
  {
   "cell_type": "markdown",
   "id": "b3a8ba53",
   "metadata": {},
   "source": [
    "## Docker-compose"
   ]
  },
  {
   "cell_type": "markdown",
   "id": "9a8401f5",
   "metadata": {},
   "source": [
    "You can provide the following docker-compose.yml file to your local machine or to a cloud service like AWS Beanstalk. "
   ]
  },
  {
   "cell_type": "markdown",
   "id": "dfba434a",
   "metadata": {},
   "source": [
    "```\n",
    "version: \"3.5\"\n",
    "\n",
    "services:\n",
    "  frontend:\n",
    "    image: rictuar/sampleingester-frontend\n",
    "    container_name: front_end\n",
    "    ports:\n",
    "      - 80:8050\n",
    "    networks:\n",
    "      my_network:\n",
    "        aliases:\n",
    "          - frontend_alias\n",
    "    restart: on-failure      \n",
    "      \n",
    "  api:\n",
    "    image: rictuar/sampleingester-api\n",
    "    container_name: api\n",
    "    ports:\n",
    "      - 4999:4999\n",
    "    networks:\n",
    "      my_network:\n",
    "        aliases:\n",
    "          - api_alias\n",
    "    restart: on-failure\n",
    "\n",
    "networks:\n",
    "  my_network:\n",
    "```"
   ]
  }
 ],
 "metadata": {
  "kernelspec": {
   "display_name": "Python 3 (ipykernel)",
   "language": "python",
   "name": "python3"
  },
  "language_info": {
   "codemirror_mode": {
    "name": "ipython",
    "version": 3
   },
   "file_extension": ".py",
   "mimetype": "text/x-python",
   "name": "python",
   "nbconvert_exporter": "python",
   "pygments_lexer": "ipython3",
   "version": "3.8.12"
  }
 },
 "nbformat": 4,
 "nbformat_minor": 5
}
