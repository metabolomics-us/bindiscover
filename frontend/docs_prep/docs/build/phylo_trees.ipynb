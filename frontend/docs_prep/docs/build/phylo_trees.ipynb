{
 "cells": [
  {
   "cell_type": "markdown",
   "id": "d4caf19c",
   "metadata": {},
   "source": [
    "# Phylometabolomic Trees"
   ]
  },
  {
   "cell_type": "markdown",
   "id": "0b2a6bf8",
   "metadata": {},
   "source": [
    "## Summary"
   ]
  },
  {
   "cell_type": "markdown",
   "id": "3bed637b",
   "metadata": {},
   "source": [
    "Generating matrices for phylometabolomic analysis is a two-step process. In the first step, sets of metadata triplets are created. In the second step, those sets are used as input to the actual calculator."
   ]
  },
  {
   "cell_type": "markdown",
   "id": "303d550e",
   "metadata": {},
   "source": [
    "## Step 1 - Triplets"
   ]
  },
  {
   "cell_type": "markdown",
   "id": "847e2367",
   "metadata": {},
   "source": [
    "Making a post request to "
   ]
  },
  {
   "cell_type": "raw",
   "id": "52be2b98",
   "metadata": {},
   "source": [
    "```\n",
    "http://bindiscover.metabolomics.us:4999/treemetadataresource/\n",
    "```"
   ]
  },
  {
   "cell_type": "markdown",
   "id": "cb3a44be",
   "metadata": {},
   "source": [
    "With the format "
   ]
  },
  {
   "cell_type": "markdown",
   "id": "9d103ef0",
   "metadata": {},
   "source": [
    "```\n",
    "{\n",
    "    \"species\":\"10114\", #any NCBI species or parent ID\n",
    "    \"organ\":\"A03.620\", #any MeSH organ ID\n",
    "    \"disease\":\"No Disease\", #any MeSH disease ID\n",
    "    \"species_organ_disease\":[\"arabidopsis thaliana - Plant Roots - No Disease\"] #any triplet from our data\n",
    "}\n",
    "```"
   ]
  },
  {
   "cell_type": "markdown",
   "id": "3275c5e5",
   "metadata": {},
   "source": [
    "Where values in this dictionary are nodes from the NCBI taxonomy and MeSH Hierarchies AND/OR individual triplets will yield a record-oriented metadata table, e.g."
   ]
  },
  {
   "cell_type": "markdown",
   "id": "91c07de8",
   "metadata": {},
   "source": [
    "```\n",
    "\"[\n",
    "    {\\\"triplet_id\\\":\\\"rattus rattus - Liver - No Disease\\\",\\\"sample_count\\\":221},\n",
    "    {\\\"triplet_id\\\":\\\"arabidopsis thaliana - Plant Roots - No Disease\\\",\\\"sample_count\\\":408}\n",
    "]\"\n",
    "```"
   ]
  },
  {
   "cell_type": "markdown",
   "id": "beb1cf89",
   "metadata": {},
   "source": [
    "## Step 2 - Phylometabolomic Matrices"
   ]
  },
  {
   "cell_type": "markdown",
   "id": "79b87016",
   "metadata": {},
   "source": [
    "Making a post request to "
   ]
  },
  {
   "cell_type": "markdown",
   "id": "3d0c0e3b",
   "metadata": {},
   "source": [
    "```\n",
    "http://bindiscover.metabolomics.us:4999/treeresource/\n",
    "```"
   ]
  },
  {
   "cell_type": "markdown",
   "id": "2b5ffc72",
   "metadata": {},
   "source": [
    "with the format"
   ]
  },
  {
   "cell_type": "markdown",
   "id": "89322be5",
   "metadata": {},
   "source": [
    "```\n",
    "{\n",
    "    \"metadata_triplets\":[\"salmonella enterica - Cells - No Disease\", \"faecalibacterium prausnitzii - Cells - No Disease\", \"mycoplasma - Cells - No Disease\"],\n",
    "    \"data_type\":\"percent_present\", #\n",
    "    \"bin_type\":\"knowns\" #options are \"knowns\" (known compounds) or \"all\" (all compounds)\n",
    "}\n",
    "```"
   ]
  },
  {
   "cell_type": "markdown",
   "id": "3623d251",
   "metadata": {},
   "source": [
    "will yield the core information for the phylometabolomic trees, eg"
   ]
  },
  {
   "cell_type": "markdown",
   "id": "eacd6c15",
   "metadata": {},
   "source": [
    "```\n",
    "\"[\n",
    "    {\\\"2\\\":0.9848484848,\\\"3\\\":0.8484848485,\\\"4\\\":0.8787878788,\\\"5\\\":0.9848484848,\\\"6\\\":0.9090909091,\\\"8\\\":0.6363636364,\\\"9\\\":0.2272727273,\\\"10\\\":0.9242424242,...\n",
    "]\"\n",
    "```"
   ]
  }
 ],
 "metadata": {
  "kernelspec": {
   "display_name": "Python 3",
   "language": "python",
   "name": "python3"
  },
  "language_info": {
   "codemirror_mode": {
    "name": "ipython",
    "version": 3
   },
   "file_extension": ".py",
   "mimetype": "text/x-python",
   "name": "python",
   "nbconvert_exporter": "python",
   "pygments_lexer": "ipython3",
   "version": "3.8.8"
  }
 },
 "nbformat": 4,
 "nbformat_minor": 5
}
