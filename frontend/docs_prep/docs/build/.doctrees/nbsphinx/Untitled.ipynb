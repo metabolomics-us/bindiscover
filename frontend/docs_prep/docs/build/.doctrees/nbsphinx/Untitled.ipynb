{
 "cells": [
  {
   "cell_type": "markdown",
   "id": "94554902",
   "metadata": {},
   "source": [
    "# API"
   ]
  },
  {
   "cell_type": "markdown",
   "id": "fa46a168",
   "metadata": {},
   "source": [
    "## Summary and Format"
   ]
  },
  {
   "cell_type": "markdown",
   "id": "a98f60f9",
   "metadata": {},
   "source": [
    "Generating the data for sunburst diagrams is a one step process."
   ]
  },
  {
   "cell_type": "markdown",
   "id": "f42bce2e",
   "metadata": {},
   "source": [
    "Making a post request to "
   ]
  },
  {
   "cell_type": "markdown",
   "id": "df39e069",
   "metadata": {},
   "source": [
    "```\n",
    "http://bindiscover.metabolomics.us:4999/sunburstresource/\n",
    "```"
   ]
  },
  {
   "cell_type": "markdown",
   "id": "1d0caa35",
   "metadata": {},
   "source": [
    "With the format"
   ]
  },
  {
   "cell_type": "markdown",
   "id": "5992cf6d",
   "metadata": {},
   "source": [
    "```\n",
    "{\n",
    "    \"compound\":\"2\"\n",
    "}\n",
    "```"
   ]
  },
  {
   "cell_type": "markdown",
   "id": "ab7ddf8b",
   "metadata": {},
   "source": [
    "will yield the core information for the sunburst diagram, eg"
   ]
  },
  {
   "cell_type": "markdown",
   "id": "ca9784e0",
   "metadata": {},
   "source": [
    "```\n",
    "\"[\n",
    "    {\\\"species\\\": \\\"aedes aegypti\\\", \\\"organ\\\": \\\"Gastrointestinal Tract\\\", \\\"disease\\\": \\\"No Disease\\\", \\\"intensity_average\\\": 1452376.341103711, \\\"percent_present\\\": 1.0}, \n",
    "    {\\\"species\\\": \\\"aedes aegypti\\\", \\\"organ\\\": \\\"Tissues\\\", \\\"disease\\\": \\\"No Disease\\\", \\\"intensity_average\\\": 365861379.4309003, \\\"percent_present\\\": 1.0},...\n",
    "]\n",
    "```"
   ]
  }
 ],
 "metadata": {
  "kernelspec": {
   "display_name": "Python 3",
   "language": "python",
   "name": "python3"
  },
  "language_info": {
   "codemirror_mode": {
    "name": "ipython",
    "version": 3
   },
   "file_extension": ".py",
   "mimetype": "text/x-python",
   "name": "python",
   "nbconvert_exporter": "python",
   "pygments_lexer": "ipython3",
   "version": "3.8.8"
  }
 },
 "nbformat": 4,
 "nbformat_minor": 5
}
